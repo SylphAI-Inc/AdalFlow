{
 "cells": [
  {
   "cell_type": "markdown",
   "metadata": {},
   "source": [
    "# Welcome to AdalFlow 🤗\n",
    "AdalFlow is your go-to library for building and auto-optimizing LLM task pipelines. We're dedicated to providing an exceptional LLM application development experience.\n",
    "\n",
    "For questions or support, [join our Discord community](https://discord.gg/ezzszrRZvT).\n",
    "\n",
    "⭐ [Star us on GitHub!](https://github.com/SylphAI-Inc/AdalFlow) ⭐\n",
    "\n",
    "### Quick Links\n",
    "* [GitHub Repository](https://github.com/SylphAI-Inc/AdalFlow)\n",
    "* [Full Tutorials](https://adalflow.sylph.ai/index.html#)\n",
    "* [Developer Notes](https://adalflow.sylph.ai/tutorials/index.html)\n",
    "* [Use Cases](https://adalflow.sylph.ai/use_cases/index.html)\n",
    "\n",
    "### Authors\n",
    "This notebook was created by [Nicholas Fleischhauer](https://www.linkedin.com/in/unobtainiumrock/)."
   ]
  },
  {
   "cell_type": "code",
   "execution_count": null,
   "metadata": {},
   "outputs": [],
   "source": [
    "from IPython.display import clear_output\n",
    "\n",
    "!pip install -U adalflow\n",
    "\n",
    "clear_output()"
   ]
  },
  {
   "cell_type": "markdown",
   "metadata": {},
   "source": [
    "### Some Initial Setup\n",
    "\n",
    "The following will set up some logging and prompt you to provide API keys for the client we are integrating."
   ]
  },
  {
   "cell_type": "markdown",
   "metadata": {},
   "source": [
    "# 😇 Have Fun!\n",
    "\n",
    "Let's get started!  🚀\n",
    "\n"
   ]
  },
  {
   "cell_type": "code",
   "execution_count": 5,
   "metadata": {},
   "outputs": [
    {
     "name": "stdout",
     "output_type": "stream",
     "text": [
      "API keys have been set.\n"
     ]
    }
   ],
   "source": [
    "import os\n",
    "from getpass import getpass\n",
    "\n",
    "SAMBANOVA_API_KEY = getpass(\"Please enter your Mistral API key:\")\n",
    "\n",
    "os.environ[\"SAMBANOVA_API_KEY\"] = SAMBANOVA_API_KEY\n",
    "\n",
    "print(\"API keys have been set.\")"
   ]
  },
  {
   "cell_type": "code",
   "execution_count": 6,
   "metadata": {},
   "outputs": [
    {
     "name": "stdout",
     "output_type": "stream",
     "text": [
      "[SambaNova] LLM output:\n",
      "Hello world.\n"
     ]
    }
   ],
   "source": [
    "from adalflow.components.model_client.sambanova_client import SambaNovaClient\n",
    "from adalflow.core import Generator\n",
    "\n",
    "generator = Generator(\n",
    "    model_client=SambaNovaClient(),\n",
    "    model_kwargs={\n",
    "        \"model\": \"Meta-Llama-3.1-8B-Instruct\",\n",
    "        \"temperature\": 0.7,\n",
    "        \"top_p\": 0.9,\n",
    "    },\n",
    ")\n",
    "\n",
    "# Provide a single prompt\n",
    "prompt_kwargs = {\"input_str\": \"Just say hi and hello world and nothing else.\"}\n",
    "\n",
    "response = generator(prompt_kwargs)\n",
    "\n",
    "if response.error:\n",
    "    print(f\"[SambaNova] Generator error: {response.error}\")\n",
    "else:\n",
    "    print(\"[SambaNova] LLM output:\")\n",
    "    print(response.data)"
   ]
  }
 ],
 "metadata": {
  "kernelspec": {
   "display_name": ".venv",
   "language": "python",
   "name": "python3"
  },
  "language_info": {
   "codemirror_mode": {
    "name": "ipython",
    "version": 3
   },
   "file_extension": ".py",
   "mimetype": "text/x-python",
   "name": "python",
   "nbconvert_exporter": "python",
   "pygments_lexer": "ipython3",
   "version": "3.12.3"
  }
 },
 "nbformat": 4,
 "nbformat_minor": 2
}
