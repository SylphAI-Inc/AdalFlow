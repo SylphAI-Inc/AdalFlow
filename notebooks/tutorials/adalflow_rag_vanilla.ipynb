{
 "cells": [
  {
   "cell_type": "markdown",
   "metadata": {},
   "source": [
    "<div style=\"display: flex; justify-content: flex-start; align-items: center; gap: 15px; margin-bottom: 20px;\">\n",
    "  <a target=\"_blank\" href=\"https://colab.research.google.com/github.com/SylphAI-Inc/AdalFlow/blob/main/notebooks/tutorials/adalflow_rag_vanilla.ipynb\">\n",
    "    <img src=\"https://colab.research.google.com/assets/colab-badge.svg\" alt=\"Open In Colab\"/>\n",
    "  </a>\n",
    "  <a href=\"https://github.com/SylphAI-Inc/AdalFlow/blob/main/tutorials/adalflow_rag_vanilla.py\" target=\"_blank\" style=\"display: flex; align-items: center;\">\n",
    "      <img src=\"https://github.githubassets.com/images/modules/logos_page/GitHub-Mark.png\" alt=\"GitHub\" style=\"height: 20px; width: 20px; margin-right: 5px;\">\n",
    "      <span style=\"vertical-align: middle;\"> Open Source Code </span>\n",
    "  </a>\n",
    "</div>"
   ]
  },
  {
   "cell_type": "markdown",
   "metadata": {},
   "source": [
    "# 🤗 Welcome to AdalFlow!\n",
    "## The PyTorch library to auto-optimize any LLM task pipelines\n",
    "\n",
    "Thanks for trying us out, we're here to provide you with the best LLM application development experience you can dream of 😊 any questions or concerns you may have, [come talk to us on discord,](https://discord.gg/ezzszrRZvT) we're always here to help! ⭐ <i>Star us on <a href=\"https://github.com/SylphAI-Inc/AdalFlow\">Github</a> </i> ⭐\n",
    "\n",
    "\n",
    "# Quick Links\n",
    "\n",
    "Github repo: https://github.com/SylphAI-Inc/AdalFlow\n",
    "\n",
    "Full Tutorials: https://adalflow.sylph.ai/index.html#.\n",
    "\n",
    "Deep dive on each API: check out the [developer notes](https://adalflow.sylph.ai/tutorials/index.html).\n",
    "\n",
    "Common use cases along with the auto-optimization:  check out [Use cases](https://adalflow.sylph.ai/use_cases/index.html).\n",
    "\n",
    "# Author\n",
    "This notebook was created by community contributor [Ajith](https://github.com/ajithvcoder/).\n",
    "\n",
    "# Outline\n",
    "\n",
    "This is a quick introduction of what AdalFlow is capable of. We will cover:\n",
    "\n",
    "* How to use adalflow for rag\n",
    "\n",
    "Adalflow can be used in a genric manner for any api provider without worrying much about prompt, \n",
    "model args and parsing results\n",
    "\n",
    "**Next: Try our [adalflow-rag-for-documents](\"https://colab.research.google.com/github.com/SylphAI-Inc/AdalFlow/blob/main/notebooks/tutorials/adalflow_rag_documents.ipynb\")**\n",
    "\n",
    "\n",
    "# Installation\n",
    "\n",
    "1. Use `pip` to install the `adalflow` Python package. We will need `openai`, `groq`, and `faiss`(cpu version) from the extra packages.\n",
    "\n",
    "  ```bash\n",
    "    pip install torch --index-url https://download.pytorch.org/whl/cpu\n",
    "    pip install sentence-transformers==3.3.1\n",
    "    pip install adalflow[openai,groq,faiss-cpu]\n",
    "  ```\n",
    "2. Setup  `openai` and `groq` API key in the environment variables"
   ]
  },
  {
   "cell_type": "markdown",
   "metadata": {},
   "source": [
    "### Set Environment Variables\n",
    "\n",
    "Note: Enter your api keys in below cell #todo"
   ]
  },
  {
   "cell_type": "code",
   "execution_count": null,
   "metadata": {},
   "outputs": [
    {
     "name": "stdout",
     "output_type": "stream",
     "text": [
      "Overwriting .env\n"
     ]
    }
   ],
   "source": [
    "%%writefile .env\n",
    "\n",
    "OPENAI_API_KEY=\"PASTE-OPENAI_API_KEY_HERE\"\n",
    "GROQ_API_KEY=\"PASTE-GROQ_API_KEY-HERE\""
   ]
  },
  {
   "cell_type": "code",
   "execution_count": 1,
   "metadata": {},
   "outputs": [],
   "source": [
    "from adalflow.utils import setup_env\n",
    "\n",
    "# Load environment variables - Make sure to have OPENAI_API_KEY in .env file and .env is present in current folder\n",
    "setup_env(\".env\")"
   ]
  },
  {
   "cell_type": "code",
   "execution_count": 2,
   "metadata": {},
   "outputs": [
    {
     "name": "stderr",
     "output_type": "stream",
     "text": [
      "/workspace/ajithdev/AdalFlow/.venv/lib/python3.12/site-packages/tqdm/auto.py:21: TqdmWarning: IProgress not found. Please update jupyter and ipywidgets. See https://ipywidgets.readthedocs.io/en/stable/user_install.html\n",
      "  from .autonotebook import tqdm as notebook_tqdm\n"
     ]
    }
   ],
   "source": [
    "import os\n",
    "from typing import List, Dict\n",
    "import numpy as np\n",
    "from sentence_transformers import SentenceTransformer\n",
    "from faiss import IndexFlatL2\n",
    "\n",
    "from adalflow.components.model_client import GroqAPIClient, OpenAIClient\n",
    "from adalflow.core.types import ModelType\n",
    "from adalflow.utils import setup_env"
   ]
  },
  {
   "cell_type": "markdown",
   "metadata": {},
   "source": [
    "`AdalflowRAGPipeline` is a class that implements a Retrieval-Augmented Generation (RAG) pipeline with adalflow. It integrates:\n",
    "\n",
    "- Embedding models (e.g., Sentence Transformers) for document and query embeddings.\n",
    "- FAISS for vector similarity search.\n",
    "- A LLM client to generate context-aware responses using retrieved documents."
   ]
  },
  {
   "cell_type": "code",
   "execution_count": 3,
   "metadata": {},
   "outputs": [],
   "source": [
    "class AdalflowRAGPipeline:\n",
    "    def __init__(self, \n",
    "                 model_client = None,\n",
    "                 model_kwargs = None,\n",
    "                 embedding_model='all-MiniLM-L6-v2', \n",
    "                 vector_dim=384, \n",
    "                 top_k_retrieval=1):\n",
    "        \"\"\" \n",
    "        Initialize RAG Pipeline with embedding and retrieval components\n",
    "        \n",
    "        Args:\n",
    "            embedding_model (str): Sentence transformer model for embeddings\n",
    "            vector_dim (int): Dimension of embedding vectors\n",
    "            top_k_retrieval (int): Number of documents to retrieve\n",
    "        \"\"\"\n",
    "        # Initialize model client for generation\n",
    "        self.model_client = model_client\n",
    "        \n",
    "        # Initialize embedding model\n",
    "        self.embedding_model = SentenceTransformer(embedding_model)\n",
    "        \n",
    "        # Initialize FAISS index for vector similarity search\n",
    "        self.index = IndexFlatL2(vector_dim)\n",
    "        \n",
    "        # Store document texts and their embeddings\n",
    "        self.documents = []\n",
    "        self.document_embeddings = []\n",
    "        \n",
    "        # Retrieval parameters\n",
    "        self.top_k_retrieval = top_k_retrieval\n",
    "        \n",
    "        # Conversation history and context\n",
    "        self.conversation_history = \"\"\n",
    "        self.model_kwargs = model_kwargs\n",
    "\n",
    "    def add_documents(self, documents: List[str]):\n",
    "        \"\"\"\n",
    "        Add documents to the RAG pipeline's knowledge base\n",
    "        \n",
    "        Args:\n",
    "            documents (List[str]): List of document texts to add\n",
    "        \"\"\"\n",
    "        for doc in documents:\n",
    "            # Embed document\n",
    "            embedding = self.embedding_model.encode(doc)\n",
    "            \n",
    "            # Add to index and document store\n",
    "            self.index.add(np.array([embedding]))\n",
    "            self.documents.append(doc)\n",
    "            self.document_embeddings.append(embedding)\n",
    "\n",
    "    def retrieve_relevant_docs(self, query: str) -> List[str]:\n",
    "        \"\"\"\n",
    "        Retrieve most relevant documents for a given query\n",
    "        \n",
    "        Args:\n",
    "            query (str): Input query to find relevant documents\n",
    "        \n",
    "        Returns:\n",
    "            List[str]: Top k most relevant documents\n",
    "        \"\"\"\n",
    "        # Embed query\n",
    "        query_embedding = self.embedding_model.encode(query)\n",
    "        \n",
    "        # Perform similarity search\n",
    "        distances, indices = self.index.search(\n",
    "            np.array([query_embedding]), \n",
    "            self.top_k_retrieval\n",
    "        )\n",
    "        \n",
    "        # Retrieve and return top documents\n",
    "        return [self.documents[i] for i in indices[0]]\n",
    "\n",
    "    def generate_response(self, query: str) -> str:\n",
    "        \"\"\"\n",
    "        Generate a response using retrieval-augmented generation\n",
    "        \n",
    "        Args:\n",
    "            query (str): User's input query\n",
    "        \n",
    "        Returns:\n",
    "            str: Generated response incorporating retrieved context\n",
    "        \"\"\"\n",
    "        # Retrieve relevant documents\n",
    "        retrieved_docs = self.retrieve_relevant_docs(query)\n",
    "        \n",
    "        # Construct context-aware prompt\n",
    "        context = \"\\n\\n\".join([f\"Context Document: {doc}\" for doc in retrieved_docs])\n",
    "        full_prompt = f\"\"\"\n",
    "        Context:\n",
    "        {context}\n",
    "        \n",
    "        Query: {query}\n",
    "        \n",
    "        Generate a comprehensive and informative response that:\n",
    "        1. Uses the provided context documents\n",
    "        2. Directly answers the query\n",
    "        3. Incorporates relevant information from the context\n",
    "        \"\"\"\n",
    "        \n",
    "        # Prepare API arguments\n",
    "        api_kwargs = self.model_client.convert_inputs_to_api_kwargs(\n",
    "            input=full_prompt,\n",
    "            model_kwargs=self.model_kwargs,\n",
    "            model_type=ModelType.LLM\n",
    "        )\n",
    "        \n",
    "        # Call API and parse response\n",
    "        response = self.model_client.call(\n",
    "            api_kwargs=api_kwargs, \n",
    "            model_type=ModelType.LLM\n",
    "        )\n",
    "        response_text = self.model_client.parse_chat_completion(response)\n",
    "        \n",
    "        # Update conversation history\n",
    "        self.conversation_history += f\"\\nQuery: {query}\\nResponse: {response_text}\"\n",
    "        \n",
    "        return response_text\n"
   ]
  },
  {
   "cell_type": "markdown",
   "metadata": {},
   "source": [
    "The `run_rag_pipeline` function demonstrates how to use the AdalflowRAGPipeline for embedding documents, retrieving relevant context, and generating responses:"
   ]
  },
  {
   "cell_type": "code",
   "execution_count": 4,
   "metadata": {},
   "outputs": [],
   "source": [
    "def run_rag_pipeline(model_client, model_kwargs, documents, queries):\n",
    "    rag_pipeline = AdalflowRAGPipeline(model_client=model_client, model_kwargs=model_kwargs)\n",
    "\n",
    "    rag_pipeline.add_documents(documents)\n",
    "\n",
    "    # Generate responses\n",
    "    for query in queries:\n",
    "        print(f\"\\nQuery: {query}\")\n",
    "        response = rag_pipeline.generate_response(query)\n",
    "        print(f\"Response: {response}\")"
   ]
  },
  {
   "cell_type": "code",
   "execution_count": null,
   "metadata": {},
   "outputs": [
    {
     "name": "stdout",
     "output_type": "stream",
     "text": [
      "\n",
      "Query: Does Ajith Kumar has any nick name ?\n",
      "Response: GeneratorOutput(id=None, data=None, error=None, usage=CompletionUsage(completion_tokens=78, prompt_tokens=122, total_tokens=200), raw_response='Based on the provided context documents, Ajith Kumar, also known as Ajithvcoder, has a nickname that he has given himself. According to the context, Ajithvcoder is his nickname that he has chosen for himself.\\n\\nTherefore, the answer to the query is:\\n\\nYes, Ajith Kumar has a nickname that he has given himself, which is Ajithvcoder.', metadata=None)\n",
      "\n",
      "Query: What is the ajithvcoder's favourite food?\n",
      "Response: GeneratorOutput(id=None, data=None, error=None, usage=CompletionUsage(completion_tokens=67, prompt_tokens=109, total_tokens=176), raw_response='Based on the provided context document, I can confidently answer the query as follows:\\n\\nAjithvcoder\\'s favourite food is Hyderabadi Panner Dum Briyani.\\n\\nThis answer is directly supported by the context document, which states: \"ajithvcoder likes Hyderabadi panner dum briyani much.\"', metadata=None)\n",
      "\n",
      "Query: When did ajithvcoder graduated ?\n",
      "Response: GeneratorOutput(id=None, data=None, error=None, usage=CompletionUsage(completion_tokens=57, prompt_tokens=107, total_tokens=164), raw_response=\"Based on the provided context documents, we can determine that Ajith V.Coder graduated on May 2016.\\n\\nHere's a comprehensive and informative response that directly answers the query:\\n\\nAjith V.Coder graduated on May 2016, which is mentioned in the context document.\", metadata=None)\n"
     ]
    }
   ],
   "source": [
    "# setup_env()\n",
    "\n",
    "# ajithvcoder's statements are added so that we can validate that the LLM is generating from these lines only\n",
    "documents = [\n",
    "    \"ajithvcoder is a good person whom the world knows as Ajith Kumar, ajithvcoder is his nick name that AjithKumar gave himself\",\n",
    "    \"The Eiffel Tower is a famous landmark in Paris, built in 1889 for the World's Fair.\",\n",
    "    \"ajithvcoder likes Hyderabadi panner dum briyani much.\",\n",
    "    \"The Louvre Museum in Paris is the world's largest art museum, housing thousands of works of art.\",\n",
    "    \"ajithvcoder has a engineering degree and he graduated on May, 2016.\"\n",
    "]\n",
    "\n",
    "# Questions related to ajithvcoder's are added so that we can validate\n",
    "# that the LLM is generating from above given lines only\n",
    "queries = [\n",
    "    \"Does Ajith Kumar has any nick name ?\",\n",
    "    \"What is the ajithvcoder's favourite food?\",\n",
    "    \"When did ajithvcoder graduated ?\"\n",
    "]\n",
    "\n",
    "groq_model_kwargs = {\n",
    "    \"model\": \"llama-3.2-1b-preview\",  # Use 16k model for larger context\n",
    "    \"temperature\": 0.1,\n",
    "    \"max_tokens\": 800,\n",
    "}\n",
    "\n",
    "openai_model_kwargs = {\n",
    "    \"model\": \"gpt-3.5-turbo\",  # Use 16k model for larger context\n",
    "    \"temperature\": 0.1,\n",
    "    \"max_tokens\": 800,\n",
    "}\n",
    "\n",
    "# Below example shows that adalflow can be used in a genric manner for any api provider\n",
    "# without worrying about prompt and parsing results\n",
    "model_client = GroqAPIClient()\n",
    "run_rag_pipeline(model_client, groq_model_kwargs, documents, queries)\n",
    "run_rag_pipeline(OpenAIClient(), openai_model_kwargs, documents, queries)\n"
   ]
  }
 ],
 "metadata": {
  "kernelspec": {
   "display_name": ".venv",
   "language": "python",
   "name": "python3"
  },
  "language_info": {
   "codemirror_mode": {
    "name": "ipython",
    "version": 3
   },
   "file_extension": ".py",
   "mimetype": "text/x-python",
   "name": "python",
   "nbconvert_exporter": "python",
   "pygments_lexer": "ipython3",
   "version": "3.12.7"
  }
 },
 "nbformat": 4,
 "nbformat_minor": 2
}
