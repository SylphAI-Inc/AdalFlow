{
 "cells": [
  {
   "cell_type": "markdown",
   "metadata": {},
   "source": [
    "We can directly use model client"
   ]
  },
  {
   "cell_type": "code",
   "execution_count": 7,
   "metadata": {},
   "outputs": [
    {
     "name": "stdout",
     "output_type": "stream",
     "text": [
      "api_kwargs: {'model': 'gpt-3.5-turbo', 'temperature': 0.5, 'max_tokens': 100, 'messages': [{'role': 'system', 'content': 'User: What is the capital of France?\\n'}]}\n",
      "response_text: The capital of France is Paris.\n",
      "api_kwargs: {'model': 'text-embedding-3-small', 'dimensions': 8, 'encoding_format': 'float', 'input': ['What is the capital of France?', 'What is the capital of France?']}\n",
      "reponse_embedder_output: EmbedderOutput(data=[Embedding(embedding=[0.6175549, 0.24047995, 0.4509756, 0.37041178, -0.33437008, -0.050995983, -0.24366009, 0.21549304], index=0), Embedding(embedding=[0.6175549, 0.24047995, 0.4509756, 0.37041178, -0.33437008, -0.050995983, -0.24366009, 0.21549304], index=1)], model='text-embedding-3-small', usage=Usage(prompt_tokens=14, total_tokens=14), error=None, raw_response=None)\n"
     ]
    }
   ],
   "source": [
    "from adalflow.components.model_client import OpenAIClient\n",
    "from adalflow.core.types import ModelType\n",
    "from adalflow.utils import setup_env\n",
    "\n",
    "openai_client = OpenAIClient()\n",
    "\n",
    "query = \"What is the capital of France?\"\n",
    "\n",
    "# try LLM model\n",
    "model_type = ModelType.LLM\n",
    "\n",
    "prompt = f\"User: {query}\\n\"\n",
    "model_kwargs = {\"model\": \"gpt-3.5-turbo\", \"temperature\": 0.5, \"max_tokens\": 100}\n",
    "api_kwargs = openai_client.convert_inputs_to_api_kwargs(input=prompt, \n",
    "                                                        model_kwargs=model_kwargs, \n",
    "                                                        model_type=model_type)\n",
    "print(f\"api_kwargs: {api_kwargs}\")\n",
    "\n",
    "response = openai_client.call(api_kwargs=api_kwargs, model_type=model_type)\n",
    "response_text = openai_client.parse_chat_completion(response)\n",
    "print(f\"response_text: {response_text}\")\n",
    "\n",
    "# try embedding model\n",
    "model_type = ModelType.EMBEDDER\n",
    "# do batch embedding\n",
    "input = [query] * 2\n",
    "model_kwargs = {\"model\": \"text-embedding-3-small\", \"dimensions\": 8, \"encoding_format\": \"float\"}\n",
    "api_kwargs = openai_client.convert_inputs_to_api_kwargs(input=input, model_kwargs=model_kwargs, model_type=model_type)\n",
    "print(f\"api_kwargs: {api_kwargs}\")\n",
    "\n",
    "\n",
    "\n",
    "response = openai_client.call(api_kwargs=api_kwargs, model_type=model_type)\n",
    "reponse_embedder_output = openai_client.parse_embedding_response(response)\n",
    "print(f\"reponse_embedder_output: {reponse_embedder_output}\")\n"
   ]
  },
  {
   "cell_type": "markdown",
   "metadata": {},
   "source": [
    "For local models, we can use the client classes from the `transformers_client` module:\n",
    "- TransformerEmbeddingModelClient\n",
    "- TransformerLLMModelClient\n",
    "- TransformerRerankerModelClient"
   ]
  },
  {
   "cell_type": "code",
   "execution_count": 6,
   "metadata": {},
   "outputs": [
    {
     "ename": "ModuleNotFoundError",
     "evalue": "No module named 'adalflow'",
     "output_type": "error",
     "traceback": [
      "\u001b[0;31m---------------------------------------------------------------------------\u001b[0m",
      "\u001b[0;31mModuleNotFoundError\u001b[0m                       Traceback (most recent call last)",
      "\u001b[1;32m/workspaces/transformer_client/AdalFlow/tutorials/model_client.ipynb Cell 4\u001b[0m line \u001b[0;36m1\n\u001b[0;32m----> <a href='vscode-notebook-cell://dev-container%2B7b22766f6c756d654e616d65223a227472616e73666f726d65725f636c69656e74222c22666f6c646572223a227472616e73666f726d65725f636c69656e74222c2273657474696e6773223a7b22636f6e74657874223a226465736b746f702d6c696e7578227d7d/workspaces/transformer_client/AdalFlow/tutorials/model_client.ipynb#X16sdnNjb2RlLXJlbW90ZQ%3D%3D?line=0'>1</a>\u001b[0m \u001b[39mfrom\u001b[39;00m \u001b[39madalflow\u001b[39;00m\u001b[39m.\u001b[39;00m\u001b[39mcomponents\u001b[39;00m\u001b[39m.\u001b[39;00m\u001b[39mmodel_client\u001b[39;00m\u001b[39m.\u001b[39;00m\u001b[39mtransformers_client\u001b[39;00m \u001b[39mimport\u001b[39;00m (\n\u001b[1;32m      <a href='vscode-notebook-cell://dev-container%2B7b22766f6c756d654e616d65223a227472616e73666f726d65725f636c69656e74222c22666f6c646572223a227472616e73666f726d65725f636c69656e74222c2273657474696e6773223a7b22636f6e74657874223a226465736b746f702d6c696e7578227d7d/workspaces/transformer_client/AdalFlow/tutorials/model_client.ipynb#X16sdnNjb2RlLXJlbW90ZQ%3D%3D?line=1'>2</a>\u001b[0m     TransformerEmbeddingModelClient,\n\u001b[1;32m      <a href='vscode-notebook-cell://dev-container%2B7b22766f6c756d654e616d65223a227472616e73666f726d65725f636c69656e74222c22666f6c646572223a227472616e73666f726d65725f636c69656e74222c2273657474696e6773223a7b22636f6e74657874223a226465736b746f702d6c696e7578227d7d/workspaces/transformer_client/AdalFlow/tutorials/model_client.ipynb#X16sdnNjb2RlLXJlbW90ZQ%3D%3D?line=2'>3</a>\u001b[0m     TransformerLLMModelClient,\n\u001b[1;32m      <a href='vscode-notebook-cell://dev-container%2B7b22766f6c756d654e616d65223a227472616e73666f726d65725f636c69656e74222c22666f6c646572223a227472616e73666f726d65725f636c69656e74222c2273657474696e6773223a7b22636f6e74657874223a226465736b746f702d6c696e7578227d7d/workspaces/transformer_client/AdalFlow/tutorials/model_client.ipynb#X16sdnNjb2RlLXJlbW90ZQ%3D%3D?line=3'>4</a>\u001b[0m     TransformerRerankerModelClient\n\u001b[1;32m      <a href='vscode-notebook-cell://dev-container%2B7b22766f6c756d654e616d65223a227472616e73666f726d65725f636c69656e74222c22666f6c646572223a227472616e73666f726d65725f636c69656e74222c2273657474696e6773223a7b22636f6e74657874223a226465736b746f702d6c696e7578227d7d/workspaces/transformer_client/AdalFlow/tutorials/model_client.ipynb#X16sdnNjb2RlLXJlbW90ZQ%3D%3D?line=4'>5</a>\u001b[0m     )\n",
      "\u001b[0;31mModuleNotFoundError\u001b[0m: No module named 'adalflow'"
     ]
    }
   ],
   "source": [
    "from adalflow.components.model_client.transformers_client import (\n",
    "    TransformerEmbeddingModelClient,\n",
    "    TransformerLLMModelClient,\n",
    "    TransformerRerankerModelClient\n",
    "    )\n"
   ]
  },
  {
   "cell_type": "code",
   "execution_count": 7,
   "metadata": {},
   "outputs": [],
   "source": [
    "query = \"Where is Brian?\"\n",
    "documents = [\n",
    "    \"Brian is in the kitchen.\",\n",
    "    \"I love Adalflow.\",\n",
    "    \"Brian too.\"\n",
    "]"
   ]
  },
  {
   "cell_type": "code",
   "execution_count": 9,
   "metadata": {},
   "outputs": [
    {
     "ename": "NameError",
     "evalue": "name 'TransformerEmbeddingModelClient' is not defined",
     "output_type": "error",
     "traceback": [
      "\u001b[0;31m---------------------------------------------------------------------------\u001b[0m",
      "\u001b[0;31mNameError\u001b[0m                                 Traceback (most recent call last)",
      "\u001b[1;32m/workspaces/transformer_client/AdalFlow/tutorials/model_client.ipynb Cell 6\u001b[0m line \u001b[0;36m9\n\u001b[1;32m      <a href='vscode-notebook-cell://dev-container%2B7b22766f6c756d654e616d65223a227472616e73666f726d65725f636c69656e74222c22666f6c646572223a227472616e73666f726d65725f636c69656e74222c2273657474696e6773223a7b22636f6e74657874223a226465736b746f702d6c696e7578227d7d/workspaces/transformer_client/AdalFlow/tutorials/model_client.ipynb#X21sdnNjb2RlLXJlbW90ZQ%3D%3D?line=1'>2</a>\u001b[0m model_kwargs \u001b[39m=\u001b[39m {\u001b[39m\"\u001b[39m\u001b[39mmodel\u001b[39m\u001b[39m\"\u001b[39m: embedding_model}\n\u001b[1;32m      <a href='vscode-notebook-cell://dev-container%2B7b22766f6c756d654e616d65223a227472616e73666f726d65725f636c69656e74222c22666f6c646572223a227472616e73666f726d65725f636c69656e74222c2273657474696e6773223a7b22636f6e74657874223a226465736b746f702d6c696e7578227d7d/workspaces/transformer_client/AdalFlow/tutorials/model_client.ipynb#X21sdnNjb2RlLXJlbW90ZQ%3D%3D?line=2'>3</a>\u001b[0m tokenizer_kwargs \u001b[39m=\u001b[39m {\n\u001b[1;32m      <a href='vscode-notebook-cell://dev-container%2B7b22766f6c756d654e616d65223a227472616e73666f726d65725f636c69656e74222c22666f6c646572223a227472616e73666f726d65725f636c69656e74222c2273657474696e6773223a7b22636f6e74657874223a226465736b746f702d6c696e7578227d7d/workspaces/transformer_client/AdalFlow/tutorials/model_client.ipynb#X21sdnNjb2RlLXJlbW90ZQ%3D%3D?line=3'>4</a>\u001b[0m     \u001b[39m\"\u001b[39m\u001b[39mmax_length\u001b[39m\u001b[39m\"\u001b[39m: \u001b[39m512\u001b[39m,\n\u001b[1;32m      <a href='vscode-notebook-cell://dev-container%2B7b22766f6c756d654e616d65223a227472616e73666f726d65725f636c69656e74222c22666f6c646572223a227472616e73666f726d65725f636c69656e74222c2273657474696e6773223a7b22636f6e74657874223a226465736b746f702d6c696e7578227d7d/workspaces/transformer_client/AdalFlow/tutorials/model_client.ipynb#X21sdnNjb2RlLXJlbW90ZQ%3D%3D?line=4'>5</a>\u001b[0m     \u001b[39m\"\u001b[39m\u001b[39mpadding\u001b[39m\u001b[39m\"\u001b[39m: \u001b[39mTrue\u001b[39;00m,\n\u001b[1;32m      <a href='vscode-notebook-cell://dev-container%2B7b22766f6c756d654e616d65223a227472616e73666f726d65725f636c69656e74222c22666f6c646572223a227472616e73666f726d65725f636c69656e74222c2273657474696e6773223a7b22636f6e74657874223a226465736b746f702d6c696e7578227d7d/workspaces/transformer_client/AdalFlow/tutorials/model_client.ipynb#X21sdnNjb2RlLXJlbW90ZQ%3D%3D?line=5'>6</a>\u001b[0m     \u001b[39m\"\u001b[39m\u001b[39mtruncation\u001b[39m\u001b[39m\"\u001b[39m: \u001b[39mTrue\u001b[39;00m,\n\u001b[1;32m      <a href='vscode-notebook-cell://dev-container%2B7b22766f6c756d654e616d65223a227472616e73666f726d65725f636c69656e74222c22666f6c646572223a227472616e73666f726d65725f636c69656e74222c2273657474696e6773223a7b22636f6e74657874223a226465736b746f702d6c696e7578227d7d/workspaces/transformer_client/AdalFlow/tutorials/model_client.ipynb#X21sdnNjb2RlLXJlbW90ZQ%3D%3D?line=6'>7</a>\u001b[0m     \u001b[39m\"\u001b[39m\u001b[39mreturn_tensors\u001b[39m\u001b[39m\"\u001b[39m: \u001b[39m'\u001b[39m\u001b[39mpt\u001b[39m\u001b[39m'\u001b[39m\n\u001b[1;32m      <a href='vscode-notebook-cell://dev-container%2B7b22766f6c756d654e616d65223a227472616e73666f726d65725f636c69656e74222c22666f6c646572223a227472616e73666f726d65725f636c69656e74222c2273657474696e6773223a7b22636f6e74657874223a226465736b746f702d6c696e7578227d7d/workspaces/transformer_client/AdalFlow/tutorials/model_client.ipynb#X21sdnNjb2RlLXJlbW90ZQ%3D%3D?line=7'>8</a>\u001b[0m }\n\u001b[0;32m----> <a href='vscode-notebook-cell://dev-container%2B7b22766f6c756d654e616d65223a227472616e73666f726d65725f636c69656e74222c22666f6c646572223a227472616e73666f726d65725f636c69656e74222c2273657474696e6773223a7b22636f6e74657874223a226465736b746f702d6c696e7578227d7d/workspaces/transformer_client/AdalFlow/tutorials/model_client.ipynb#X21sdnNjb2RlLXJlbW90ZQ%3D%3D?line=8'>9</a>\u001b[0m model_client \u001b[39m=\u001b[39m TransformerEmbeddingModelClient(\n\u001b[1;32m     <a href='vscode-notebook-cell://dev-container%2B7b22766f6c756d654e616d65223a227472616e73666f726d65725f636c69656e74222c22666f6c646572223a227472616e73666f726d65725f636c69656e74222c2273657474696e6773223a7b22636f6e74657874223a226465736b746f702d6c696e7578227d7d/workspaces/transformer_client/AdalFlow/tutorials/model_client.ipynb#X21sdnNjb2RlLXJlbW90ZQ%3D%3D?line=9'>10</a>\u001b[0m     model_name\u001b[39m=\u001b[39membedding_model,\n\u001b[1;32m     <a href='vscode-notebook-cell://dev-container%2B7b22766f6c756d654e616d65223a227472616e73666f726d65725f636c69656e74222c22666f6c646572223a227472616e73666f726d65725f636c69656e74222c2273657474696e6773223a7b22636f6e74657874223a226465736b746f702d6c696e7578227d7d/workspaces/transformer_client/AdalFlow/tutorials/model_client.ipynb#X21sdnNjb2RlLXJlbW90ZQ%3D%3D?line=10'>11</a>\u001b[0m     tokenizer_kwargs\u001b[39m=\u001b[39mtokenizer_kwargs\n\u001b[1;32m     <a href='vscode-notebook-cell://dev-container%2B7b22766f6c756d654e616d65223a227472616e73666f726d65725f636c69656e74222c22666f6c646572223a227472616e73666f726d65725f636c69656e74222c2273657474696e6773223a7b22636f6e74657874223a226465736b746f702d6c696e7578227d7d/workspaces/transformer_client/AdalFlow/tutorials/model_client.ipynb#X21sdnNjb2RlLXJlbW90ZQ%3D%3D?line=11'>12</a>\u001b[0m )\n\u001b[1;32m     <a href='vscode-notebook-cell://dev-container%2B7b22766f6c756d654e616d65223a227472616e73666f726d65725f636c69656e74222c22666f6c646572223a227472616e73666f726d65725f636c69656e74222c2273657474696e6773223a7b22636f6e74657874223a226465736b746f702d6c696e7578227d7d/workspaces/transformer_client/AdalFlow/tutorials/model_client.ipynb#X21sdnNjb2RlLXJlbW90ZQ%3D%3D?line=12'>13</a>\u001b[0m \u001b[39mprint\u001b[39m(\n\u001b[1;32m     <a href='vscode-notebook-cell://dev-container%2B7b22766f6c756d654e616d65223a227472616e73666f726d65725f636c69656e74222c22666f6c646572223a227472616e73666f726d65725f636c69656e74222c2273657474696e6773223a7b22636f6e74657874223a226465736b746f702d6c696e7578227d7d/workspaces/transformer_client/AdalFlow/tutorials/model_client.ipynb#X21sdnNjb2RlLXJlbW90ZQ%3D%3D?line=13'>14</a>\u001b[0m     \u001b[39mf\u001b[39m\u001b[39m\"\u001b[39m\u001b[39mTesting model client with model \u001b[39m\u001b[39m{\u001b[39;00membedding_model\u001b[39m}\u001b[39;00m\u001b[39m\"\u001b[39m\n\u001b[1;32m     <a href='vscode-notebook-cell://dev-container%2B7b22766f6c756d654e616d65223a227472616e73666f726d65725f636c69656e74222c22666f6c646572223a227472616e73666f726d65725f636c69656e74222c2273657474696e6773223a7b22636f6e74657874223a226465736b746f702d6c696e7578227d7d/workspaces/transformer_client/AdalFlow/tutorials/model_client.ipynb#X21sdnNjb2RlLXJlbW90ZQ%3D%3D?line=14'>15</a>\u001b[0m )\n\u001b[1;32m     <a href='vscode-notebook-cell://dev-container%2B7b22766f6c756d654e616d65223a227472616e73666f726d65725f636c69656e74222c22666f6c646572223a227472616e73666f726d65725f636c69656e74222c2273657474696e6773223a7b22636f6e74657874223a226465736b746f702d6c696e7578227d7d/workspaces/transformer_client/AdalFlow/tutorials/model_client.ipynb#X21sdnNjb2RlLXJlbW90ZQ%3D%3D?line=15'>16</a>\u001b[0m api_kwargs \u001b[39m=\u001b[39m model_client\u001b[39m.\u001b[39mconvert_inputs_to_api_kwargs(\u001b[39minput\u001b[39m\u001b[39m=\u001b[39mquery, model_kwargs\u001b[39m=\u001b[39mmodel_kwargs)\n",
      "\u001b[0;31mNameError\u001b[0m: name 'TransformerEmbeddingModelClient' is not defined"
     ]
    }
   ],
   "source": [
    "embedding_model = \"thenlper/gte-base\"\n",
    "model_kwargs = {\"model\": embedding_model}\n",
    "tokenizer_kwargs = {\n",
    "    \"max_length\": 512,\n",
    "    \"padding\": True,\n",
    "    \"truncation\": True,\n",
    "    \"return_tensors\": 'pt'\n",
    "}\n",
    "model_client = TransformerEmbeddingModelClient(\n",
    "    model_name=embedding_model,\n",
    "    tokenizer_kwargs=tokenizer_kwargs\n",
    ")\n",
    "print(\n",
    "    f\"Testing model client with model {embedding_model}\"\n",
    ")\n",
    "api_kwargs = model_client.convert_inputs_to_api_kwargs(input=query, model_kwargs=model_kwargs)\n",
    "print(f\"api_kwargs: {api_kwargs}\")\n",
    "output = model_client.call(api_kwargs=api_kwargs)\n",
    "print(output)"
   ]
  },
  {
   "cell_type": "code",
   "execution_count": 10,
   "metadata": {},
   "outputs": [
    {
     "ename": "NameError",
     "evalue": "name 'TransformerLLMModelClient' is not defined",
     "output_type": "error",
     "traceback": [
      "\u001b[0;31m---------------------------------------------------------------------------\u001b[0m",
      "\u001b[0;31mNameError\u001b[0m                                 Traceback (most recent call last)",
      "\u001b[1;32m/workspaces/transformer_client/AdalFlow/tutorials/model_client.ipynb Cell 7\u001b[0m line \u001b[0;36m1\n\u001b[1;32m      <a href='vscode-notebook-cell://dev-container%2B7b22766f6c756d654e616d65223a227472616e73666f726d65725f636c69656e74222c22666f6c646572223a227472616e73666f726d65725f636c69656e74222c2273657474696e6773223a7b22636f6e74657874223a226465736b746f702d6c696e7578227d7d/workspaces/transformer_client/AdalFlow/tutorials/model_client.ipynb#X22sdnNjb2RlLXJlbW90ZQ%3D%3D?line=5'>6</a>\u001b[0m tokenizer_kwargs \u001b[39m=\u001b[39m {\n\u001b[1;32m      <a href='vscode-notebook-cell://dev-container%2B7b22766f6c756d654e616d65223a227472616e73666f726d65725f636c69656e74222c22666f6c646572223a227472616e73666f726d65725f636c69656e74222c2273657474696e6773223a7b22636f6e74657874223a226465736b746f702d6c696e7578227d7d/workspaces/transformer_client/AdalFlow/tutorials/model_client.ipynb#X22sdnNjb2RlLXJlbW90ZQ%3D%3D?line=6'>7</a>\u001b[0m     \u001b[39m\"\u001b[39m\u001b[39mmax_length\u001b[39m\u001b[39m\"\u001b[39m: \u001b[39mTrue\u001b[39;00m,\n\u001b[1;32m      <a href='vscode-notebook-cell://dev-container%2B7b22766f6c756d654e616d65223a227472616e73666f726d65725f636c69656e74222c22666f6c646572223a227472616e73666f726d65725f636c69656e74222c2273657474696e6773223a7b22636f6e74657874223a226465736b746f702d6c696e7578227d7d/workspaces/transformer_client/AdalFlow/tutorials/model_client.ipynb#X22sdnNjb2RlLXJlbW90ZQ%3D%3D?line=7'>8</a>\u001b[0m     \u001b[39m\"\u001b[39m\u001b[39mtruncation\u001b[39m\u001b[39m\"\u001b[39m: \u001b[39mTrue\u001b[39;00m,\n\u001b[1;32m      <a href='vscode-notebook-cell://dev-container%2B7b22766f6c756d654e616d65223a227472616e73666f726d65725f636c69656e74222c22666f6c646572223a227472616e73666f726d65725f636c69656e74222c2273657474696e6773223a7b22636f6e74657874223a226465736b746f702d6c696e7578227d7d/workspaces/transformer_client/AdalFlow/tutorials/model_client.ipynb#X22sdnNjb2RlLXJlbW90ZQ%3D%3D?line=8'>9</a>\u001b[0m }\n\u001b[1;32m     <a href='vscode-notebook-cell://dev-container%2B7b22766f6c756d654e616d65223a227472616e73666f726d65725f636c69656e74222c22666f6c646572223a227472616e73666f726d65725f636c69656e74222c2273657474696e6773223a7b22636f6e74657874223a226465736b746f702d6c696e7578227d7d/workspaces/transformer_client/AdalFlow/tutorials/model_client.ipynb#X22sdnNjb2RlLXJlbW90ZQ%3D%3D?line=9'>10</a>\u001b[0m prompt_kwargs \u001b[39m=\u001b[39m {\n\u001b[1;32m     <a href='vscode-notebook-cell://dev-container%2B7b22766f6c756d654e616d65223a227472616e73666f726d65725f636c69656e74222c22666f6c646572223a227472616e73666f726d65725f636c69656e74222c2273657474696e6773223a7b22636f6e74657874223a226465736b746f702d6c696e7578227d7d/workspaces/transformer_client/AdalFlow/tutorials/model_client.ipynb#X22sdnNjb2RlLXJlbW90ZQ%3D%3D?line=10'>11</a>\u001b[0m     \u001b[39m\"\u001b[39m\u001b[39minput_str\u001b[39m\u001b[39m\"\u001b[39m: query, \n\u001b[1;32m     <a href='vscode-notebook-cell://dev-container%2B7b22766f6c756d654e616d65223a227472616e73666f726d65725f636c69656e74222c22666f6c646572223a227472616e73666f726d65725f636c69656e74222c2273657474696e6773223a7b22636f6e74657874223a226465736b746f702d6c696e7578227d7d/workspaces/transformer_client/AdalFlow/tutorials/model_client.ipynb#X22sdnNjb2RlLXJlbW90ZQ%3D%3D?line=11'>12</a>\u001b[0m }\n\u001b[0;32m---> <a href='vscode-notebook-cell://dev-container%2B7b22766f6c756d654e616d65223a227472616e73666f726d65725f636c69656e74222c22666f6c646572223a227472616e73666f726d65725f636c69656e74222c2273657474696e6773223a7b22636f6e74657874223a226465736b746f702d6c696e7578227d7d/workspaces/transformer_client/AdalFlow/tutorials/model_client.ipynb#X22sdnNjb2RlLXJlbW90ZQ%3D%3D?line=12'>13</a>\u001b[0m model_client \u001b[39m=\u001b[39m TransformerLLMModelClient(\n\u001b[1;32m     <a href='vscode-notebook-cell://dev-container%2B7b22766f6c756d654e616d65223a227472616e73666f726d65725f636c69656e74222c22666f6c646572223a227472616e73666f726d65725f636c69656e74222c2273657474696e6773223a7b22636f6e74657874223a226465736b746f702d6c696e7578227d7d/workspaces/transformer_client/AdalFlow/tutorials/model_client.ipynb#X22sdnNjb2RlLXJlbW90ZQ%3D%3D?line=13'>14</a>\u001b[0m     tokenizer_kwargs\u001b[39m=\u001b[39mtokenizer_kwargs,\n\u001b[1;32m     <a href='vscode-notebook-cell://dev-container%2B7b22766f6c756d654e616d65223a227472616e73666f726d65725f636c69656e74222c22666f6c646572223a227472616e73666f726d65725f636c69656e74222c2273657474696e6773223a7b22636f6e74657874223a226465736b746f702d6c696e7578227d7d/workspaces/transformer_client/AdalFlow/tutorials/model_client.ipynb#X22sdnNjb2RlLXJlbW90ZQ%3D%3D?line=14'>15</a>\u001b[0m     local_files_only\u001b[39m=\u001b[39m\u001b[39mFalse\u001b[39;00m,\n\u001b[1;32m     <a href='vscode-notebook-cell://dev-container%2B7b22766f6c756d654e616d65223a227472616e73666f726d65725f636c69656e74222c22666f6c646572223a227472616e73666f726d65725f636c69656e74222c2273657474696e6773223a7b22636f6e74657874223a226465736b746f702d6c696e7578227d7d/workspaces/transformer_client/AdalFlow/tutorials/model_client.ipynb#X22sdnNjb2RlLXJlbW90ZQ%3D%3D?line=15'>16</a>\u001b[0m     init_from\u001b[39m=\u001b[39m\u001b[39m\"\u001b[39m\u001b[39mautoclass\u001b[39m\u001b[39m\"\u001b[39m,\n\u001b[1;32m     <a href='vscode-notebook-cell://dev-container%2B7b22766f6c756d654e616d65223a227472616e73666f726d65725f636c69656e74222c22666f6c646572223a227472616e73666f726d65725f636c69656e74222c2273657474696e6773223a7b22636f6e74657874223a226465736b746f702d6c696e7578227d7d/workspaces/transformer_client/AdalFlow/tutorials/model_client.ipynb#X22sdnNjb2RlLXJlbW90ZQ%3D%3D?line=16'>17</a>\u001b[0m     )\n\u001b[1;32m     <a href='vscode-notebook-cell://dev-container%2B7b22766f6c756d654e616d65223a227472616e73666f726d65725f636c69656e74222c22666f6c646572223a227472616e73666f726d65725f636c69656e74222c2273657474696e6773223a7b22636f6e74657874223a226465736b746f702d6c696e7578227d7d/workspaces/transformer_client/AdalFlow/tutorials/model_client.ipynb#X22sdnNjb2RlLXJlbW90ZQ%3D%3D?line=17'>18</a>\u001b[0m api_kwargs \u001b[39m=\u001b[39m model_client\u001b[39m.\u001b[39mconvert_inputs_to_api_kwargs(\u001b[39minput\u001b[39m\u001b[39m=\u001b[39mquery, model_kwargs\u001b[39m=\u001b[39mmodel_kwargs)\n\u001b[1;32m     <a href='vscode-notebook-cell://dev-container%2B7b22766f6c756d654e616d65223a227472616e73666f726d65725f636c69656e74222c22666f6c646572223a227472616e73666f726d65725f636c69656e74222c2273657474696e6773223a7b22636f6e74657874223a226465736b746f702d6c696e7578227d7d/workspaces/transformer_client/AdalFlow/tutorials/model_client.ipynb#X22sdnNjb2RlLXJlbW90ZQ%3D%3D?line=18'>19</a>\u001b[0m \u001b[39mprint\u001b[39m(\u001b[39mf\u001b[39m\u001b[39m\"\u001b[39m\u001b[39mapi_kwargs: \u001b[39m\u001b[39m{\u001b[39;00mapi_kwargs\u001b[39m}\u001b[39;00m\u001b[39m\"\u001b[39m)\n",
      "\u001b[0;31mNameError\u001b[0m: name 'TransformerLLMModelClient' is not defined"
     ]
    }
   ],
   "source": [
    "model_kwargs = {\n",
    "    \"model\": \"roneneldan/TinyStories-1M\",\n",
    "    \"temperature\": 0.1,\n",
    "    \"do_sample\": True\n",
    "}\n",
    "tokenizer_kwargs = {\n",
    "    \"max_length\": True,\n",
    "    \"truncation\": True,\n",
    "}\n",
    "prompt_kwargs = {\n",
    "    \"input_str\": query, \n",
    "}\n",
    "model_client = TransformerLLMModelClient(\n",
    "    tokenizer_kwargs=tokenizer_kwargs,\n",
    "    local_files_only=False,\n",
    "    init_from=\"autoclass\",\n",
    "    )\n",
    "api_kwargs = model_client.convert_inputs_to_api_kwargs(input=query, model_kwargs=model_kwargs)\n",
    "print(f\"api_kwargs: {api_kwargs}\")\n",
    "output = model_client.call(api_kwargs=api_kwargs)\n",
    "print(f\"reponse_embedder_output: {reponse_embedder_output}\")"
   ]
  },
  {
   "cell_type": "code",
   "execution_count": 11,
   "metadata": {},
   "outputs": [
    {
     "ename": "NameError",
     "evalue": "name 'TransformerRerankerModelClient' is not defined",
     "output_type": "error",
     "traceback": [
      "\u001b[0;31m---------------------------------------------------------------------------\u001b[0m",
      "\u001b[0;31mNameError\u001b[0m                                 Traceback (most recent call last)",
      "\u001b[1;32m/workspaces/transformer_client/AdalFlow/tutorials/model_client.ipynb Cell 8\u001b[0m line \u001b[0;36m2\n\u001b[1;32m      <a href='vscode-notebook-cell://dev-container%2B7b22766f6c756d654e616d65223a227472616e73666f726d65725f636c69656e74222c22666f6c646572223a227472616e73666f726d65725f636c69656e74222c2273657474696e6773223a7b22636f6e74657874223a226465736b746f702d6c696e7578227d7d/workspaces/transformer_client/AdalFlow/tutorials/model_client.ipynb#X23sdnNjb2RlLXJlbW90ZQ%3D%3D?line=0'>1</a>\u001b[0m transformer_reranker_model \u001b[39m=\u001b[39m \u001b[39m\"\u001b[39m\u001b[39mBAAI/bge-reranker-base\u001b[39m\u001b[39m\"\u001b[39m\n\u001b[0;32m----> <a href='vscode-notebook-cell://dev-container%2B7b22766f6c756d654e616d65223a227472616e73666f726d65725f636c69656e74222c22666f6c646572223a227472616e73666f726d65725f636c69656e74222c2273657474696e6773223a7b22636f6e74657874223a226465736b746f702d6c696e7578227d7d/workspaces/transformer_client/AdalFlow/tutorials/model_client.ipynb#X23sdnNjb2RlLXJlbW90ZQ%3D%3D?line=1'>2</a>\u001b[0m model_client \u001b[39m=\u001b[39m TransformerRerankerModelClient(\n\u001b[1;32m      <a href='vscode-notebook-cell://dev-container%2B7b22766f6c756d654e616d65223a227472616e73666f726d65725f636c69656e74222c22666f6c646572223a227472616e73666f726d65725f636c69656e74222c2273657474696e6773223a7b22636f6e74657874223a226465736b746f702d6c696e7578227d7d/workspaces/transformer_client/AdalFlow/tutorials/model_client.ipynb#X23sdnNjb2RlLXJlbW90ZQ%3D%3D?line=2'>3</a>\u001b[0m     tokenizer_kwargs\u001b[39m=\u001b[39m{\u001b[39m\"\u001b[39m\u001b[39mpadding\u001b[39m\u001b[39m\"\u001b[39m: \u001b[39mTrue\u001b[39;00m}\n\u001b[1;32m      <a href='vscode-notebook-cell://dev-container%2B7b22766f6c756d654e616d65223a227472616e73666f726d65725f636c69656e74222c22666f6c646572223a227472616e73666f726d65725f636c69656e74222c2273657474696e6773223a7b22636f6e74657874223a226465736b746f702d6c696e7578227d7d/workspaces/transformer_client/AdalFlow/tutorials/model_client.ipynb#X23sdnNjb2RlLXJlbW90ZQ%3D%3D?line=3'>4</a>\u001b[0m )\n\u001b[1;32m      <a href='vscode-notebook-cell://dev-container%2B7b22766f6c756d654e616d65223a227472616e73666f726d65725f636c69656e74222c22666f6c646572223a227472616e73666f726d65725f636c69656e74222c2273657474696e6773223a7b22636f6e74657874223a226465736b746f702d6c696e7578227d7d/workspaces/transformer_client/AdalFlow/tutorials/model_client.ipynb#X23sdnNjb2RlLXJlbW90ZQ%3D%3D?line=5'>6</a>\u001b[0m model_kwargs \u001b[39m=\u001b[39m {\n\u001b[1;32m      <a href='vscode-notebook-cell://dev-container%2B7b22766f6c756d654e616d65223a227472616e73666f726d65725f636c69656e74222c22666f6c646572223a227472616e73666f726d65725f636c69656e74222c2273657474696e6773223a7b22636f6e74657874223a226465736b746f702d6c696e7578227d7d/workspaces/transformer_client/AdalFlow/tutorials/model_client.ipynb#X23sdnNjb2RlLXJlbW90ZQ%3D%3D?line=6'>7</a>\u001b[0m     \u001b[39m\"\u001b[39m\u001b[39mmodel\u001b[39m\u001b[39m\"\u001b[39m: transformer_reranker_model,\n\u001b[1;32m      <a href='vscode-notebook-cell://dev-container%2B7b22766f6c756d654e616d65223a227472616e73666f726d65725f636c69656e74222c22666f6c646572223a227472616e73666f726d65725f636c69656e74222c2273657474696e6773223a7b22636f6e74657874223a226465736b746f702d6c696e7578227d7d/workspaces/transformer_client/AdalFlow/tutorials/model_client.ipynb#X23sdnNjb2RlLXJlbW90ZQ%3D%3D?line=7'>8</a>\u001b[0m     \u001b[39m\"\u001b[39m\u001b[39mdocuments\u001b[39m\u001b[39m\"\u001b[39m: documents,\n\u001b[1;32m      <a href='vscode-notebook-cell://dev-container%2B7b22766f6c756d654e616d65223a227472616e73666f726d65725f636c69656e74222c22666f6c646572223a227472616e73666f726d65725f636c69656e74222c2273657474696e6773223a7b22636f6e74657874223a226465736b746f702d6c696e7578227d7d/workspaces/transformer_client/AdalFlow/tutorials/model_client.ipynb#X23sdnNjb2RlLXJlbW90ZQ%3D%3D?line=8'>9</a>\u001b[0m     \u001b[39m\"\u001b[39m\u001b[39mtop_k\u001b[39m\u001b[39m\"\u001b[39m: \u001b[39m2\u001b[39m,\n\u001b[1;32m     <a href='vscode-notebook-cell://dev-container%2B7b22766f6c756d654e616d65223a227472616e73666f726d65725f636c69656e74222c22666f6c646572223a227472616e73666f726d65725f636c69656e74222c2273657474696e6773223a7b22636f6e74657874223a226465736b746f702d6c696e7578227d7d/workspaces/transformer_client/AdalFlow/tutorials/model_client.ipynb#X23sdnNjb2RlLXJlbW90ZQ%3D%3D?line=9'>10</a>\u001b[0m }\n\u001b[1;32m     <a href='vscode-notebook-cell://dev-container%2B7b22766f6c756d654e616d65223a227472616e73666f726d65725f636c69656e74222c22666f6c646572223a227472616e73666f726d65725f636c69656e74222c2273657474696e6773223a7b22636f6e74657874223a226465736b746f702d6c696e7578227d7d/workspaces/transformer_client/AdalFlow/tutorials/model_client.ipynb#X23sdnNjb2RlLXJlbW90ZQ%3D%3D?line=11'>12</a>\u001b[0m api_kwargs \u001b[39m=\u001b[39m model_client\u001b[39m.\u001b[39mconvert_inputs_to_api_kwargs(query, model_kwargs\u001b[39m=\u001b[39mmodel_kwargs)\n",
      "\u001b[0;31mNameError\u001b[0m: name 'TransformerRerankerModelClient' is not defined"
     ]
    }
   ],
   "source": [
    "transformer_reranker_model = \"BAAI/bge-reranker-base\"\n",
    "model_client = TransformerRerankerModelClient(\n",
    "    tokenizer_kwargs={\"padding\": True}\n",
    ")\n",
    "\n",
    "model_kwargs = {\n",
    "    \"model\": transformer_reranker_model,\n",
    "    \"documents\": documents,\n",
    "    \"top_k\": 2,\n",
    "}\n",
    "\n",
    "api_kwargs = model_client.convert_inputs_to_api_kwargs(query, model_kwargs=model_kwargs)\n",
    "print(f\"api_kwargs: {api_kwargs}\")\n",
    "output = model_client.call(api_kwargs)\n",
    "print(f\"reponse_embedder_output: {reponse_embedder_output}\")"
   ]
  },
  {
   "cell_type": "markdown",
   "metadata": {},
   "source": []
  }
 ],
 "metadata": {
  "kernelspec": {
   "display_name": "my-project-kernel",
   "language": "python",
   "name": "my-project-kernel"
  },
  "language_info": {
   "codemirror_mode": {
    "name": "ipython",
    "version": 3
   },
   "file_extension": ".py",
   "mimetype": "text/x-python",
   "name": "python",
   "nbconvert_exporter": "python",
   "pygments_lexer": "ipython3",
   "version": "3.11.6"
  }
 },
 "nbformat": 4,
 "nbformat_minor": 2
}
